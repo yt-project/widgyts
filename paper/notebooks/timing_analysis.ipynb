{
 "cells": [
  {
   "cell_type": "code",
   "execution_count": null,
   "metadata": {},
   "outputs": [],
   "source": [
    "import ipydatawidgets  # noqa: F401\n",
    "import ipywidgets\n",
    "import numpy as np\n",
    "import traitlets\n",
    "from IPython.display import display\n",
    "\n",
    "import widgyts\n",
    "import yt\n",
    "\n",
    "yt.funcs.mylog.setLevel(0)"
   ]
  },
  {
   "cell_type": "code",
   "execution_count": null,
   "metadata": {},
   "outputs": [],
   "source": [
    "ds = yt.load(\"IsolatedGalaxy/galaxy0030/galaxy0030\")"
   ]
  },
  {
   "cell_type": "code",
   "execution_count": null,
   "metadata": {},
   "outputs": [],
   "source": [
    "class State(traitlets.HasTraits):\n",
    "    sl = traitlets.Instance(yt.data_objects.selection_data_containers.YTSlice)\n",
    "    im = traitlets.Instance(ipywidgets.Image)\n",
    "    width = traitlets.Float(1.0)\n",
    "    center_x = traitlets.Float(0.5)\n",
    "    center_y = traitlets.Float(0.5)\n",
    "    frb = traitlets.Instance(yt.FixedResolutionBuffer)\n",
    "\n",
    "    @traitlets.observe(\"center_x\", \"center_y\")\n",
    "    def on_change_center(self, event):\n",
    "        self.frb = self.sl.to_frb(\n",
    "            self.width, (512, 512), center=(self.center_x, self.center_y)\n",
    "        )\n",
    "\n",
    "    @traitlets.observe(\"width\")\n",
    "    def on_change_width(self, event):\n",
    "        self.frb = self.sl.to_frb(\n",
    "            self.width, (512, 512), center=(self.center_x, self.center_y)\n",
    "        )\n",
    "\n",
    "    @traitlets.observe(\"frb\")\n",
    "    def on_change_frb(self, event):\n",
    "        self.im.value = yt.write_bitmap(\n",
    "            yt.write_image(np.log10(self.frb[\"density\"]), None), None\n",
    "        )\n",
    "\n",
    "\n",
    "# ds = yt.load(\"IsolatedGalaxy/galaxy0030/galaxy0030\")\n",
    "im = ipywidgets.Image(width=512, height=512)\n",
    "s = State(sl=ds.r[:, :, 0.5], im=im)\n",
    "width_slider = ipywidgets.FloatSlider(min=0.0, max=1.0, value=1.0, step=0.001)\n",
    "center_x_slider = ipywidgets.FloatSlider(min=0.0, max=1.0, value=0.5, step=0.001)\n",
    "center_y_slider = ipywidgets.FloatSlider(min=0.0, max=1.0, value=0.5, step=0.001)\n",
    "traitlets.link((width_slider, \"value\"), (s, \"width\"))\n",
    "traitlets.link((center_x_slider, \"value\"), (s, \"center_x\"))\n",
    "traitlets.link((center_y_slider, \"value\"), (s, \"center_y\"))\n",
    "\n",
    "display(ipywidgets.VBox([im, width_slider, center_x_slider, center_y_slider]))"
   ]
  },
  {
   "cell_type": "code",
   "execution_count": null,
   "metadata": {},
   "outputs": [],
   "source": [
    "slc = ds.r[:, :, 0.5]\n",
    "frb = widgyts.FRBViewer(\n",
    "    height=512,\n",
    "    width=512,\n",
    "    px=slc[\"px\"],\n",
    "    py=slc[\"py\"],\n",
    "    pdx=slc[\"pdx\"],\n",
    "    pdy=slc[\"pdy\"],\n",
    "    val=slc[\"density\"],\n",
    "    layout=ipywidgets.Layout(width=\"512px\", height=\"512px\"),\n",
    ")\n",
    "controls = frb.setup_controls()\n",
    "display(ipywidgets.HBox([controls, frb]))"
   ]
  },
  {
   "cell_type": "code",
   "execution_count": null,
   "metadata": {},
   "outputs": [],
   "source": [
    "frb.view_center"
   ]
  },
  {
   "cell_type": "code",
   "execution_count": null,
   "metadata": {},
   "outputs": [],
   "source": [
    "from time import process_time"
   ]
  },
  {
   "cell_type": "code",
   "execution_count": null,
   "metadata": {},
   "outputs": [],
   "source": [
    "def time_widgyts(spaces, n):\n",
    "    times = np.array([])\n",
    "    for _ in range(n):\n",
    "        start = process_time()\n",
    "        for space in spaces:\n",
    "            frb.view_center = (space, 0.5)\n",
    "        end = process_time()\n",
    "        time = end - start\n",
    "        times = np.append(times, [time])\n",
    "    avg_time = np.mean(times)\n",
    "    time_std = np.std(times)\n",
    "    err = time_std / (n**0.5)\n",
    "    return avg_time, err"
   ]
  },
  {
   "cell_type": "code",
   "execution_count": null,
   "metadata": {},
   "outputs": [],
   "source": [
    "def time_jupyter(spaces, n):\n",
    "    times = np.array([])\n",
    "    for _ in range(n):\n",
    "        start = process_time()\n",
    "        for space in spaces:\n",
    "            s.center_x = space\n",
    "        end = process_time()\n",
    "        time = end - start\n",
    "        times = np.append(times, [time])\n",
    "    avg_time = np.mean(times)\n",
    "    time_std = np.std(times)\n",
    "    err = time_std / (n**0.5)\n",
    "    return avg_time, err"
   ]
  },
  {
   "cell_type": "code",
   "execution_count": null,
   "metadata": {},
   "outputs": [],
   "source": [
    "num_events = 100  # highest number of events that will be timed\n",
    "n = 10  # number of times the loop will be repeated for statistical purposes\n",
    "\n",
    "# create empty arrays for timing and errors\n",
    "widgyt_times = np.array([])\n",
    "widgyt_err = np.array([])\n",
    "jupyter_times = np.array([])\n",
    "jupyter_err = np.array([])\n",
    "\n",
    "for events in np.arange(5, num_events + 1, 5):\n",
    "    # reset the center from the previous set of events\n",
    "    center = 0.5\n",
    "    s.center_x = center\n",
    "    frb.view_center = (center, 0.5)\n",
    "\n",
    "    # get an array of the x values that will be iterated over\n",
    "    spaces = np.arange(1, events) * (1.0 / num_events)\n",
    "\n",
    "    # get the average time and standard error for the timing results\n",
    "    time_w1, err_w1 = time_widgyts(spaces, n)\n",
    "    time_w2, err_w2 = time_jupyter(spaces, n)\n",
    "\n",
    "    # add timing values and error values to arrays\n",
    "    widgyt_times, widgyt_err = (\n",
    "        np.append(widgyt_times, [time_w1]),\n",
    "        np.append(widgyt_err, [err_w1]),\n",
    "    )\n",
    "    jupyter_times, jupyter_err = (\n",
    "        np.append(jupyter_times, [time_w2]),\n",
    "        np.append(jupyter_err, [err_w2]),\n",
    "    )\n",
    "    print(\n",
    "        \"number of events:\",\n",
    "        events,\n",
    "        \"widgyts time:\",\n",
    "        time_w1,\n",
    "        \"+-\",\n",
    "        err_w1,\n",
    "        \"jupyter time:\",\n",
    "        time_w2,\n",
    "        \"+-\",\n",
    "        err_w2,\n",
    "    )"
   ]
  },
  {
   "cell_type": "code",
   "execution_count": null,
   "metadata": {},
   "outputs": [],
   "source": [
    "x = np.arange(5, num_events + 1, 5)"
   ]
  },
  {
   "cell_type": "code",
   "execution_count": null,
   "metadata": {},
   "outputs": [],
   "source": [
    "import matplotlib\n",
    "import matplotlib.pyplot as plt\n",
    "\n",
    "matplotlib.rcParams[\"text.usetex\"] = True\n",
    "matplotlib.rcParams[\"font.family\"] = \"STIXGeneral\""
   ]
  },
  {
   "cell_type": "code",
   "execution_count": null,
   "metadata": {},
   "outputs": [],
   "source": [
    "tval = 1.833  # this is a value to get the 95% confidence value https://en.wikipedia.org/wiki/Student%27s_t-distribution\n",
    "fig, ax = plt.subplots()\n",
    "ax.errorbar(\n",
    "    x,\n",
    "    widgyt_times,\n",
    "    color=\"#E9B106\",\n",
    "    yerr=tval * widgyt_err,\n",
    "    alpha=0.6,\n",
    "    label=\"widgyts\",\n",
    "    fmt=\"o\",\n",
    ")\n",
    "ax.errorbar(\n",
    "    x,\n",
    "    jupyter_times,\n",
    "    color=\"#369DB4\",\n",
    "    yerr=tval * jupyter_err,\n",
    "    alpha=0.6,\n",
    "    label=\"jupyter\",\n",
    "    fmt=\"o\",\n",
    ")\n",
    "ax.legend()\n",
    "ax.set_xlabel(r\"Number of Interactions\")\n",
    "ax.set_ylabel(r\"Time (s) to Complete Interactions\")\n",
    "ax.set_yscale(\"log\")\n",
    "ax.set_ylim(bottom=0.001)"
   ]
  },
  {
   "cell_type": "code",
   "execution_count": null,
   "metadata": {},
   "outputs": [],
   "source": [
    "fig.savefig(\"timing.png\", bbox_inches=\"tight\", dpi=200)"
   ]
  }
 ],
 "metadata": {
  "kernelspec": {
   "display_name": "Python 3",
   "language": "python",
   "name": "python3"
  },
  "language_info": {
   "codemirror_mode": {
    "name": "ipython",
    "version": 3
   },
   "file_extension": ".py",
   "mimetype": "text/x-python",
   "name": "python",
   "nbconvert_exporter": "python",
   "pygments_lexer": "ipython3",
   "version": "3.6.5"
  }
 },
 "nbformat": 4,
 "nbformat_minor": 2
}
